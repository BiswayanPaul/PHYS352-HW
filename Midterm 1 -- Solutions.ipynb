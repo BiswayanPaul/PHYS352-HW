{
 "cells": [
  {
   "cell_type": "markdown",
   "metadata": {},
   "source": [
    "# Midterm 1\n",
    "## Instructions\n",
    "Use `sympy` to work the problems in this notebook, then submit via pull request. You may use any notebooks we have built over the course of the semester as reference material. Try to format your answers as readably as possible.\n",
    "\n",
    "## `sympy` basics\n",
    "### Problem 1\n",
    "\n",
    "a) Solve $$ ax^2 + bx +c = 0$$ for $x$.\n"
   ]
  },
  {
   "cell_type": "code",
   "execution_count": 1,
   "metadata": {},
   "outputs": [
    {
     "data": {
      "image/png": "[encoded data removed]",
      "text/latex": [
       "$$\\left [ \\frac{1}{2 a} \\left(- b + \\sqrt{- 4 a c + b^{2}}\\right), \\quad - \\frac{1}{2 a} \\left(b + \\sqrt{- 4 a c + b^{2}}\\right)\\right ]$$"
      ],
      "text/plain": [
       "⎡        _____________   ⎛       _____________⎞ ⎤\n",
       "⎢       ╱           2    ⎜      ╱           2 ⎟ ⎥\n",
       "⎢-b + ╲╱  -4⋅a⋅c + b    -⎝b + ╲╱  -4⋅a⋅c + b  ⎠ ⎥\n",
       "⎢─────────────────────, ────────────────────────⎥\n",
       "⎣         2⋅a                     2⋅a           ⎦"
      ]
     },
     "execution_count": 1,
     "metadata": {},
     "output_type": "execute_result"
    }
   ],
   "source": [
    "import sympy as sp\n",
    "sp.init_printing()\n",
    "\n",
    "\n",
    "a,b,c,x = sp.symbols(\"a b c x\")\n",
    "solset = sp.solve(a*x**2 + b*x + c, x)\n",
    "solset"
   ]
  },
  {
   "cell_type": "markdown",
   "metadata": {},
   "source": [
    "\n",
    "b) Substitute $a=4$, $b=1$ and $c=-3$ into your answers to the previous question, and have `sympy` give you numerical results."
   ]
  },
  {
   "cell_type": "code",
   "execution_count": 2,
   "metadata": {},
   "outputs": [
    {
     "data": {
      "image/png": "[encoded data removed]",
      "text/latex": [
       "$$x = \\frac{3}{4}$$"
      ],
      "text/plain": [
       "x = 3/4"
      ]
     },
     "execution_count": 2,
     "metadata": {},
     "output_type": "execute_result"
    }
   ],
   "source": [
    "sp.Eq(x, solset[0].subs({a:4, b:1, c:-3}))"
   ]
  },
  {
   "cell_type": "code",
   "execution_count": 3,
   "metadata": {},
   "outputs": [
    {
     "data": {
      "image/png": "[encoded data removed]",
      "text/latex": [
       "$$x = -1$$"
      ],
      "text/plain": [
       "x = -1"
      ]
     },
     "execution_count": 3,
     "metadata": {},
     "output_type": "execute_result"
    }
   ],
   "source": [
    "sp.Eq(x, solset[1].subs({a:4, b:1, c:-3}))"
   ]
  },
  {
   "cell_type": "markdown",
   "metadata": {},
   "source": [
    "---\n",
    "\n",
    "## Vector basics\n",
    "### Problem 2\n",
    "Given the vectors $$\\mathbf{A} = \\left(\\begin{array}{c}1\\\\3\\\\-2\\end{array}\\right) \\qquad \\text{and} \\qquad\n",
    "\\mathbf{B}= \\left(\\begin{array}{c}4\\\\1\\\\5\\end{array}\\right),$$\n",
    "what are\n",
    "\n",
    "a) $\\mathbf{A} + \\mathbf{B}$?"
   ]
  },
  {
   "cell_type": "code",
   "execution_count": 4,
   "metadata": {
    "collapsed": true
   },
   "outputs": [],
   "source": [
    "from sympy import vector\n",
    "\n",
    "C = vector.CoordSys3D('', vector_names=['x', \"y\", \"z\"],\n",
    "                     variable_names=['x', \"y\", \"z\"])\n",
    "\n",
    "xhat = C.i\n",
    "yhat = C.j\n",
    "zhat = C.k\n",
    "x = C.x\n",
    "y = C.y\n",
    "z = C.z\n",
    "\n"
   ]
  },
  {
   "cell_type": "code",
   "execution_count": 5,
   "metadata": {},
   "outputs": [
    {
     "data": {
      "image/png": "[encoded data removed]",
      "text/latex": [
       "$$(5)\\mathbf{\\hat{x}_{}} + (4)\\mathbf{\\hat{y}_{}} + (3)\\mathbf{\\hat{z}_{}}$$"
      ],
      "text/plain": [
       "(5) _x + (4) _y + (3) _z"
      ]
     },
     "execution_count": 5,
     "metadata": {},
     "output_type": "execute_result"
    }
   ],
   "source": [
    "A = 1*xhat + 3*yhat -2*zhat\n",
    "B = 4*xhat + 1*yhat +5*zhat\n",
    "\n",
    "A+B"
   ]
  },
  {
   "cell_type": "code",
   "execution_count": null,
   "metadata": {
    "collapsed": true
   },
   "outputs": [],
   "source": []
  },
  {
   "cell_type": "markdown",
   "metadata": {},
   "source": [
    "b) $\\mathbf{A}\\cdot\\mathbf{B}$?"
   ]
  },
  {
   "cell_type": "code",
   "execution_count": 6,
   "metadata": {},
   "outputs": [
    {
     "data": {
      "image/png": "[encoded data removed]",
      "text/latex": [
       "$$-3$$"
      ],
      "text/plain": [
       "-3"
      ]
     },
     "execution_count": 6,
     "metadata": {},
     "output_type": "execute_result"
    }
   ],
   "source": [
    "A.dot(B)"
   ]
  },
  {
   "cell_type": "markdown",
   "metadata": {},
   "source": [
    "c) $\\mathbf{A}\\times\\mathbf{B}$?"
   ]
  },
  {
   "cell_type": "code",
   "execution_count": 7,
   "metadata": {},
   "outputs": [
    {
     "data": {
      "image/png": "[encoded data removed]",
      "text/latex": [
       "$$(17)\\mathbf{\\hat{x}_{}} + (-13)\\mathbf{\\hat{y}_{}} + (-11)\\mathbf{\\hat{z}_{}}$$"
      ],
      "text/plain": [
       "(17) _x + (-13) _y + (-11) _z"
      ]
     },
     "execution_count": 7,
     "metadata": {},
     "output_type": "execute_result"
    }
   ],
   "source": [
    "A.cross(B)"
   ]
  },
  {
   "cell_type": "markdown",
   "metadata": {},
   "source": [
    "d) $\\mathbf{A} \\cdot \\left(\\mathbf{B} - \\left(\\mathbf{A}\\cdot\\mathbf{B}\\right)\\mathbf{A}\\right)$"
   ]
  },
  {
   "cell_type": "code",
   "execution_count": 8,
   "metadata": {},
   "outputs": [
    {
     "data": {
      "image/png": "[encoded data removed]",
      "text/latex": [
       "$$39$$"
      ],
      "text/plain": [
       "39"
      ]
     },
     "execution_count": 8,
     "metadata": {},
     "output_type": "execute_result"
    }
   ],
   "source": [
    "A.dot(B-(A.dot(B)*A))"
   ]
  },
  {
   "cell_type": "markdown",
   "metadata": {},
   "source": [
    "---\n",
    "\n",
    "## Derivatives\n",
    "\n",
    "### Problem 3\n",
    "Given the functions $$\\phi = xy - 3z^2$$ and $$\\mathbf{v} = zx\\hat{\\mathbf{x}} + yz\\hat{\\mathbf{y}} - xy\\hat{\\mathbf{z}},$$\n",
    "\n",
    "what are\n",
    "\n",
    "a) $\\nabla\\phi$?"
   ]
  },
  {
   "cell_type": "code",
   "execution_count": 9,
   "metadata": {},
   "outputs": [
    {
     "data": {
      "image/png": "[encoded data removed]",
      "text/latex": [
       "$$({y}_{})\\mathbf{\\hat{x}_{}} + ({x}_{})\\mathbf{\\hat{y}_{}} + (- 6 {z}_{})\\mathbf{\\hat{z}_{}}$$"
      ],
      "text/plain": [
       "(_y) _x + (_x) _y + (-6⋅_z) _z"
      ]
     },
     "execution_count": 9,
     "metadata": {},
     "output_type": "execute_result"
    }
   ],
   "source": [
    "phi = x*y-3*z**2\n",
    "v = z*x*xhat + y*z*yhat - x*y*zhat\n",
    "\n",
    "vector.gradient(phi)"
   ]
  },
  {
   "cell_type": "markdown",
   "metadata": {},
   "source": [
    "b) $\\nabla \\cdot \\left(\\phi \\mathbf{v}\\right) $"
   ]
  },
  {
   "cell_type": "code",
   "execution_count": 10,
   "metadata": {},
   "outputs": [
    {
     "data": {
      "image/png": "[encoded data removed]",
      "text/latex": [
       "$$2 \\left({x}_{} {y}_{} - 3 {z}_{}^{2}\\right) {z}_{} + 8 {x}_{} {y}_{} {z}_{}$$"
      ],
      "text/plain": [
       "  ⎛            2⎞                \n",
       "2⋅⎝_x⋅_y - 3⋅_z ⎠⋅_z + 8⋅_x⋅_y⋅_z"
      ]
     },
     "execution_count": 10,
     "metadata": {},
     "output_type": "execute_result"
    }
   ],
   "source": [
    "vector.divergence(phi*v)"
   ]
  },
  {
   "cell_type": "markdown",
   "metadata": {},
   "source": [
    "c) $\\nabla\\times \\mathbf{v}$"
   ]
  },
  {
   "cell_type": "code",
   "execution_count": 11,
   "metadata": {},
   "outputs": [
    {
     "data": {
      "image/png": "[encoded data removed]",
      "text/latex": [
       "$$(- {x}_{} - {y}_{})\\mathbf{\\hat{x}_{}} + ({x}_{} + {y}_{})\\mathbf{\\hat{y}_{}}$$"
      ],
      "text/plain": [
       "(-_x - _y) _x + (_x + _y) _y"
      ]
     },
     "execution_count": 11,
     "metadata": {},
     "output_type": "execute_result"
    }
   ],
   "source": [
    "vector.curl(v)"
   ]
  },
  {
   "cell_type": "markdown",
   "metadata": {},
   "source": [
    "d) $(\\nabla\\cdot\\mathbf{v}) (\\nabla\\phi\\times\\hat{\\mathbf{z}})$"
   ]
  },
  {
   "cell_type": "code",
   "execution_count": 12,
   "metadata": {},
   "outputs": [
    {
     "data": {
      "image/png": "[encoded data removed]",
      "text/latex": [
       "$$(2 {x}_{} {z}_{})\\mathbf{\\hat{x}_{}} + (- 2 {y}_{} {z}_{})\\mathbf{\\hat{y}_{}}$$"
      ],
      "text/plain": [
       "(2⋅_x⋅_z) _x + (-2⋅_y⋅_z) _y"
      ]
     },
     "execution_count": 12,
     "metadata": {},
     "output_type": "execute_result"
    }
   ],
   "source": [
    "vector.divergence(v)*vector.gradient(phi).cross(zhat)"
   ]
  },
  {
   "cell_type": "markdown",
   "metadata": {},
   "source": [
    "---\n",
    "\n",
    "## Integrals\n",
    "\n",
    "### Problem 4\n",
    "a) For the $\\phi$ defined above, evaluate $$\\iiint \\phi \\,d\\tau $$ over the tetrahedron with vertices at $(0,0,0)$, $(1,0,0)$, $(0,1,0)$, and $(0,0,1)$."
   ]
  },
  {
   "cell_type": "code",
   "execution_count": 13,
   "metadata": {},
   "outputs": [
    {
     "data": {
      "image/png": "[encoded data removed]",
      "text/latex": [
       "$$- \\frac{1}{24}$$"
      ],
      "text/plain": [
       "-1/24"
      ]
     },
     "execution_count": 13,
     "metadata": {},
     "output_type": "execute_result"
    }
   ],
   "source": [
    "sp.integrate(sp.integrate(sp.integrate( phi, (x, 0, 1-y-z)),\n",
    "                         (y,0,1-z)),\n",
    "            (z,0,1))"
   ]
  },
  {
   "cell_type": "markdown",
   "metadata": {},
   "source": [
    "b) Evaluate $$\\int \\mathbf{v}\\cdot\\,d\\mathbf{l}$$ along the path $(1,1,1) \\rightarrow (1,1,0) \\rightarrow (0,0,0)$."
   ]
  },
  {
   "cell_type": "code",
   "execution_count": 14,
   "metadata": {},
   "outputs": [
    {
     "data": {
      "image/png": "[encoded data removed]",
      "text/latex": [
       "$$-1$$"
      ],
      "text/plain": [
       "-1"
      ]
     },
     "execution_count": 14,
     "metadata": {},
     "output_type": "execute_result"
    }
   ],
   "source": [
    "sp.integrate(-v.dot(zhat).subs({x:1,y:1}), (z, 1, 0)) + sp.integrate(-v.dot(xhat+yhat).subs({y:x, z:0}), (x,1,0))"
   ]
  },
  {
   "cell_type": "markdown",
   "metadata": {},
   "source": [
    "---\n",
    "\n",
    "## Curvilinear coordinates\n",
    "\n",
    "### Problem 5\n",
    "Verify the divergence theorem for the function \n",
    "$$\\mathbf{w} = r^3 \\cos\\theta\\sin\\phi\\,\\hat{\\mathbf{r}} + {\\sin\\theta\\over r} \\hat{\\boldsymbol{\\theta}}$$ \n",
    "\n",
    "on the volume (in spherical coordinates) \n",
    "$$\\begin{eqnarray} a &\\le r &\\le b \\\\ 0 & \\le \\theta &\\le \\pi/6 \\\\ \\pi/4 &\\le \\phi &\\le \\pi\\end{eqnarray}$$ "
   ]
  },
  {
   "cell_type": "code",
   "execution_count": 36,
   "metadata": {},
   "outputs": [
    {
     "data": {
      "image/png": "[encoded data removed]",
      "text/latex": [
       "$$(\\sin{\\left ({\\theta}_{} \\right )} {r}_{})\\mathbf{\\hat{\\theta}_{}} + (\\sin{\\left ({\\phi}_{} \\right )} \\cos{\\left ({\\theta}_{} \\right )} {r}_{}^{3})\\mathbf{\\hat{r}_{}}$$"
      ],
      "text/plain": [
       "(sin(_\\theta)⋅_r) _\\theta + ⎛                          3⎞ _r\n",
       "                            ⎝sin(_\\phi)⋅cos(_\\theta)⋅ ⎠     "
      ]
     },
     "execution_count": 36,
     "metadata": {},
     "output_type": "execute_result"
    }
   ],
   "source": [
    "S = vector.CoordSys3D('', vector_names=['r', \"\\\\theta\", \"\\\\phi\"],\n",
    "                     variable_names=['r', \"\\\\theta\", \"\\\\phi\"])\n",
    "S._connect_to_standard_cartesian('spherical')\n",
    "\n",
    "r = S.x\n",
    "theta = S.y\n",
    "phi = S.z\n",
    "\n",
    "rhat = S.i\n",
    "thetahat = S.j\n",
    "phihat = S.k\n",
    "\n",
    "w = r**3*sp.cos(theta)*sp.sin(phi)*rhat + r*sp.sin(theta)* thetahat\n",
    "w"
   ]
  },
  {
   "cell_type": "code",
   "execution_count": 39,
   "metadata": {},
   "outputs": [
    {
     "data": {
      "image/png": "[encoded data removed]",
      "text/latex": [
       "$$- \\frac{a^{5}}{8} - \\frac{\\sqrt{2} a^{5}}{16} - \\frac{\\pi a^{3}}{16} + \\frac{\\sqrt{2} b^{5}}{16} + \\frac{b^{5}}{8} + \\frac{\\pi b^{3}}{16}$$"
      ],
      "text/plain": [
       "   5       5      3       5    5      3\n",
       "  a    √2⋅a    π⋅a    √2⋅b    b    π⋅b \n",
       "- ── - ───── - ──── + ───── + ── + ────\n",
       "  8      16     16      16    8     16 "
      ]
     },
     "execution_count": 39,
     "metadata": {},
     "output_type": "execute_result"
    }
   ],
   "source": [
    "a,b = sp.symbols('a b')\n",
    "divw = vector.divergence(w)\n",
    "\n",
    "volume_integral = sp.integrate(sp.integrate(sp.integrate(divw*r**2*sp.sin(theta), \n",
    "                                                         (r,a,b) ),\n",
    "                                           (theta,0,sp.pi/6)),\n",
    "                              (phi,sp.pi/4,sp.pi))\n",
    "volume_integral"
   ]
  },
  {
   "cell_type": "code",
   "execution_count": 40,
   "metadata": {},
   "outputs": [
    {
     "data": {
      "image/png": "[encoded data removed]",
      "text/latex": [
       "$$- \\frac{a^{5}}{8} - \\frac{\\sqrt{2} a^{5}}{16} + \\frac{\\sqrt{2} b^{5}}{16} + \\frac{b^{5}}{8} + \\frac{3 \\pi}{4} \\left(- \\frac{a^{3}}{12} + \\frac{b^{3}}{12}\\right)$$"
      ],
      "text/plain": [
       "                                ⎛   3    3⎞\n",
       "                                ⎜  a    b ⎟\n",
       "   5       5       5    5   3⋅π⋅⎜- ── + ──⎟\n",
       "  a    √2⋅a    √2⋅b    b        ⎝  12   12⎠\n",
       "- ── - ───── + ───── + ── + ───────────────\n",
       "  8      16      16    8           4       "
      ]
     },
     "execution_count": 40,
     "metadata": {},
     "output_type": "execute_result"
    }
   ],
   "source": [
    "inner = -sp.integrate(sp.integrate((w.dot(rhat)*r**2*sp.sin(theta)).subs(r, a), (theta, 0, sp.pi/6)), (phi, sp.pi/4, sp.pi))\n",
    "outer = sp.integrate(sp.integrate((w.dot(rhat)*r**2*sp.sin(theta)).subs(r, b), (theta, 0, sp.pi/6)), (phi, sp.pi/4, sp.pi))\n",
    "# no top because it's a point\n",
    "bottom = sp.integrate(sp.integrate((w.dot(thetahat)*r*sp.sin(theta)).subs(theta, sp.pi/6), (r, a, b)), (phi, sp.pi/4, sp.pi))\n",
    "left = -sp.integrate(sp.integrate((w.dot(phihat)*r).subs(phi, sp.pi/4), (r, a, b)), (theta, 0, sp.pi/6))\n",
    "right = sp.integrate(sp.integrate((w.dot(phihat)*r).subs(phi, sp.pi), (r, a, b)), (theta, 0, sp.pi/6))\n",
    "\n",
    "surface_integral = inner + outer + left + right + bottom\n",
    "surface_integral"
   ]
  },
  {
   "cell_type": "code",
   "execution_count": 41,
   "metadata": {},
   "outputs": [
    {
     "data": {
      "text/plain": [
       "False"
      ]
     },
     "execution_count": 41,
     "metadata": {},
     "output_type": "execute_result"
    }
   ],
   "source": [
    "surface_integral == volume_integral"
   ]
  },
  {
   "cell_type": "code",
   "execution_count": 42,
   "metadata": {},
   "outputs": [
    {
     "data": {
      "image/png": "[encoded data removed]",
      "text/latex": [
       "$$0$$"
      ],
      "text/plain": [
       "0"
      ]
     },
     "execution_count": 42,
     "metadata": {},
     "output_type": "execute_result"
    }
   ],
   "source": [
    "sp.simplify(volume_integral - surface_integral)"
   ]
  },
  {
   "cell_type": "code",
   "execution_count": null,
   "metadata": {
    "collapsed": true
   },
   "outputs": [],
   "source": []
  }
 ],
 "metadata": {
  "kernelspec": {
   "display_name": "Python 3",
   "language": "python",
   "name": "python3"
  },
  "language_info": {
   "codemirror_mode": {
    "name": "ipython",
    "version": 3
   },
   "file_extension": ".py",
   "mimetype": "text/x-python",
   "name": "python",
   "nbconvert_exporter": "python",
   "pygments_lexer": "ipython3",
   "version": "3.6.2"
  }
 },
 "nbformat": 4,
 "nbformat_minor": 2
}
