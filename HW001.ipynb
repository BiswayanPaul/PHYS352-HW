{
 "cells": [
  {
   "cell_type": "code",
   "execution_count": 16,
   "metadata": {
    "collapsed": true
   },
   "outputs": [],
   "source": [
    "import sympy as sp\n",
    "sp.init_printing()\n",
    "\n",
    "from IPython.display import Math, Latex"
   ]
  },
  {
   "cell_type": "markdown",
   "metadata": {},
   "source": [
    "### Problem 1.3"
   ]
  },
  {
   "cell_type": "code",
   "execution_count": null,
   "metadata": {
    "collapsed": true
   },
   "outputs": [],
   "source": []
  },
  {
   "cell_type": "markdown",
   "metadata": {},
   "source": [
    "### Problem 1.5"
   ]
  },
  {
   "cell_type": "code",
   "execution_count": null,
   "metadata": {
    "collapsed": true
   },
   "outputs": [],
   "source": []
  },
  {
   "cell_type": "markdown",
   "metadata": {},
   "source": [
    "### Problem 1.7"
   ]
  },
  {
   "cell_type": "code",
   "execution_count": null,
   "metadata": {
    "collapsed": true
   },
   "outputs": [],
   "source": []
  },
  {
   "cell_type": "markdown",
   "metadata": {},
   "source": [
    "### Problem 1.11\n",
    "\n",
    "Find the gradients of the following functions:\n",
    "1. $f(x,y,z) = x^2 + y^3 +z^4 $\n",
    "2. $f(x,y,z) = x^2y^3z^4$\n",
    "3. $f(x,y,z) = e^x\\sin(y)\\ln(z) $"
   ]
  },
  {
   "cell_type": "code",
   "execution_count": 12,
   "metadata": {
    "collapsed": true
   },
   "outputs": [],
   "source": [
    "x,y,z = sp.symbols('x y z')\n",
    "\n",
    "def gradient(phi):\n",
    "    \"\"\"Compute the gradient of phi\"\"\"\n",
    "    x,y,z = sp.symbols('x y z')\n",
    "    phi_x = sp.diff(phi,x)\n",
    "    phi_y = sp.diff(phi,y)\n",
    "    phi_z = sp.diff(phi,z)\n",
    "    \n",
    "    return sp.Matrix([[phi_x, phi_y, phi_z]])"
   ]
  },
  {
   "cell_type": "code",
   "execution_count": 30,
   "metadata": {},
   "outputs": [
    {
     "data": {
      "text/latex": [
       "$$\\nabla \\left(x^{2} + y^{3} + z^{4}\\right) = \\left[\\begin{matrix}2 x\\\\3 y^{2}\\\\4 z^{3}\\end{matrix}\\right]$$"
      ],
      "text/plain": [
       "<IPython.core.display.Math object>"
      ]
     },
     "execution_count": 30,
     "metadata": {},
     "output_type": "execute_result"
    }
   ],
   "source": [
    "f = x**2 + y**3 + z**4\n",
    "Math(\"\\\\nabla \\left({}\\\\right) = {}\".format(sp.latex(f), sp.latex(gradient(f).T)))"
   ]
  },
  {
   "cell_type": "code",
   "execution_count": 29,
   "metadata": {},
   "outputs": [
    {
     "data": {
      "text/latex": [
       "$$\\nabla \\left(x^{2} y^{3} z^{4}\\right) = \\left[\\begin{matrix}2 x y^{3} z^{4}\\\\3 x^{2} y^{2} z^{4}\\\\4 x^{2} y^{3} z^{3}\\end{matrix}\\right]$$"
      ],
      "text/plain": [
       "<IPython.core.display.Math object>"
      ]
     },
     "execution_count": 29,
     "metadata": {},
     "output_type": "execute_result"
    }
   ],
   "source": [
    "f = x**2*y**3*z**4\n",
    "Math(\"\\\\nabla \\left({}\\\\right) = {}\".format(sp.latex(f), sp.latex(gradient(f).T)))"
   ]
  },
  {
   "cell_type": "markdown",
   "metadata": {},
   "source": [
    "For mathematical functions, we have to be careful to use the sympy versions which can handle symbols as inputs."
   ]
  },
  {
   "cell_type": "code",
   "execution_count": 31,
   "metadata": {},
   "outputs": [
    {
     "data": {
      "text/latex": [
       "$$\\nabla \\left(e^{x} \\log{\\left (z \\right )} \\sin{\\left (y \\right )}\\right) = \\left[\\begin{matrix}e^{x} \\log{\\left (z \\right )} \\sin{\\left (y \\right )}\\\\e^{x} \\log{\\left (z \\right )} \\cos{\\left (y \\right )}\\\\\\frac{e^{x}}{z} \\sin{\\left (y \\right )}\\end{matrix}\\right]$$"
      ],
      "text/plain": [
       "<IPython.core.display.Math object>"
      ]
     },
     "execution_count": 31,
     "metadata": {},
     "output_type": "execute_result"
    }
   ],
   "source": [
    "f = sp.exp(x)*sp.sin(y)*sp.ln(z)\n",
    "Math(\"\\\\nabla \\left({}\\\\right) = {}\".format(sp.latex(f), sp.latex(gradient(f).T)))"
   ]
  },
  {
   "cell_type": "markdown",
   "metadata": {},
   "source": [
    "### Problem 1.15\n",
    "\n",
    "Calculate the divergence of the following functions:\n",
    "1. $\\mathbf{v}_a = x^2 \\hat{\\mathbf{x}} + 3xz^2\\hat{\\mathbf{y}} - 2xz\\hat{\\mathbf{z}}$\n",
    "2. $\\mathbf{v}_b = xy \\hat{\\mathbf{x}} + 2yz\\hat{\\mathbf{y}} + 3zx\\hat{\\mathbf{z}}$\n",
    "3. $\\mathbf{v}_c = y^2 \\hat{\\mathbf{x}} + 2\\left(xy + z^2\\right)\\hat{\\mathbf{y}} + 2yz\\hat{\\mathbf{z}}$\n",
    "\n",
    "---\n",
    "#### Solution:\n"
   ]
  },
  {
   "cell_type": "code",
   "execution_count": 3,
   "metadata": {
    "collapsed": true
   },
   "outputs": [],
   "source": [
    "x,y,z = sp.symbols('x y z')\n",
    "v_a, v_b, v_c = sp.symbols('v_a v_b v_c')\n",
    "\n",
    "va = sp.Matrix([[x**2, 3*x*z**2, -2*x*z]])\n",
    "vb = sp.Matrix([[x*y, 2*y*z, 3*x*z]])\n",
    "vc = sp.Matrix([[y**2, 2*(x*y+z**2), 2*y*z]])"
   ]
  },
  {
   "cell_type": "code",
   "execution_count": 2,
   "metadata": {
    "collapsed": true
   },
   "outputs": [],
   "source": [
    "def divergence(vec):\n",
    "    \"\"\"Take the divergence of vec.\"\"\"\n",
    "    x,y,z = sp.symbols('x y z')\n",
    "    xterm = sp.diff(vec[0], x)\n",
    "    yterm = sp.diff(vec[1], y)\n",
    "    zterm = sp.diff(vec[2], z)\n",
    "    \n",
    "    return xterm + yterm + zterm"
   ]
  },
  {
   "cell_type": "code",
   "execution_count": 38,
   "metadata": {},
   "outputs": [
    {
     "data": {
      "text/latex": [
       "$$\\nabla \\cdot \\left[\\begin{matrix}x^{2}\\\\3 x z^{2}\\\\- 2 x z\\end{matrix}\\right] = 0$$"
      ],
      "text/plain": [
       "<IPython.core.display.Math object>"
      ]
     },
     "execution_count": 38,
     "metadata": {},
     "output_type": "execute_result"
    }
   ],
   "source": [
    "Math(\"\\\\nabla \\cdot {} = {}\".format(sp.latex(va.T), sp.latex(divergence(va))))"
   ]
  },
  {
   "cell_type": "code",
   "execution_count": 37,
   "metadata": {},
   "outputs": [
    {
     "data": {
      "text/latex": [
       "$$\\nabla \\cdot \\left[\\begin{matrix}x y\\\\2 y z\\\\3 x z\\end{matrix}\\right] = 3 x + y + 2 z$$"
      ],
      "text/plain": [
       "<IPython.core.display.Math object>"
      ]
     },
     "execution_count": 37,
     "metadata": {},
     "output_type": "execute_result"
    }
   ],
   "source": [
    "Math(\"\\\\nabla \\cdot {} = {}\".format(sp.latex(vb.T), sp.latex(divergence(vb))))"
   ]
  },
  {
   "cell_type": "code",
   "execution_count": 36,
   "metadata": {},
   "outputs": [
    {
     "data": {
      "text/latex": [
       "$$\\nabla \\cdot \\left[\\begin{matrix}y^{2}\\\\2 x y + 2 z^{2}\\\\2 y z\\end{matrix}\\right] = 2 x + 2 y$$"
      ],
      "text/plain": [
       "<IPython.core.display.Math object>"
      ]
     },
     "execution_count": 36,
     "metadata": {},
     "output_type": "execute_result"
    }
   ],
   "source": [
    "Math(\"\\\\nabla \\cdot {} = {}\".format(sp.latex(vc.T), sp.latex(divergence(vc))))"
   ]
  },
  {
   "cell_type": "markdown",
   "metadata": {},
   "source": [
    "---\n",
    "\n",
    "---\n",
    "### Problem 1.18\n",
    "\n",
    "Calculate the curls of the vector functions in problem 1.15.\n",
    "\n",
    "---\n",
    "\n",
    "#### Solution:"
   ]
  },
  {
   "cell_type": "code",
   "execution_count": 7,
   "metadata": {
    "collapsed": true
   },
   "outputs": [],
   "source": [
    "def curl(vec):\n",
    "    \"\"\"Take the curl of vec.\"\"\"\n",
    "\n",
    "    x,y,z = sp.symbols('x y z')\n",
    "    \n",
    "    # yz - zy\n",
    "    curl_x = sp.diff(vec[2], y) - sp.diff(vec[1], z)\n",
    "    \n",
    "    # zx - xz\n",
    "    curl_y = sp.diff(vec[0],z) - sp.diff(vec[2], x)\n",
    "    \n",
    "    # xy - yx\n",
    "    curl_z = sp.diff(vec[1], x) - sp.diff(vec[0], y)\n",
    "    \n",
    "    return sp.Matrix([[curl_x, curl_y, curl_z]])"
   ]
  },
  {
   "cell_type": "code",
   "execution_count": 42,
   "metadata": {},
   "outputs": [
    {
     "data": {
      "text/latex": [
       "$$\\nabla \\times \\left[\\begin{matrix}x^{2}\\\\3 x z^{2}\\\\- 2 x z\\end{matrix}\\right] = \\left[\\begin{matrix}- 6 x z\\\\2 z\\\\3 z^{2}\\end{matrix}\\right]$$"
      ],
      "text/plain": [
       "<IPython.core.display.Math object>"
      ]
     },
     "execution_count": 42,
     "metadata": {},
     "output_type": "execute_result"
    }
   ],
   "source": [
    "Math(\"\\\\nabla \\\\times {} = {}\".format(sp.latex(va.T), sp.latex(curl(va).T)))"
   ]
  },
  {
   "cell_type": "code",
   "execution_count": 43,
   "metadata": {},
   "outputs": [
    {
     "data": {
      "text/latex": [
       "$$\\nabla \\times \\left[\\begin{matrix}x y\\\\2 y z\\\\3 x z\\end{matrix}\\right] = \\left[\\begin{matrix}- 2 y\\\\- 3 z\\\\- x\\end{matrix}\\right]$$"
      ],
      "text/plain": [
       "<IPython.core.display.Math object>"
      ]
     },
     "execution_count": 43,
     "metadata": {},
     "output_type": "execute_result"
    }
   ],
   "source": [
    "Math(\"\\\\nabla \\\\times {} = {}\".format(sp.latex(vb.T), sp.latex(curl(vb).T)))"
   ]
  },
  {
   "cell_type": "code",
   "execution_count": 41,
   "metadata": {},
   "outputs": [
    {
     "data": {
      "text/latex": [
       "$$\\nabla \\times \\left[\\begin{matrix}y^{2}\\\\2 x y + 2 z^{2}\\\\2 y z\\end{matrix}\\right] = \\left[\\begin{matrix}- 2 z\\\\0\\\\0\\end{matrix}\\right]$$"
      ],
      "text/plain": [
       "<IPython.core.display.Math object>"
      ]
     },
     "execution_count": 41,
     "metadata": {},
     "output_type": "execute_result"
    }
   ],
   "source": [
    "Math(\"\\\\nabla \\\\times {} = {}\".format(sp.latex(vc.T), sp.latex(curl(vc).T)))"
   ]
  },
  {
   "cell_type": "code",
   "execution_count": null,
   "metadata": {
    "collapsed": true
   },
   "outputs": [],
   "source": []
  }
 ],
 "metadata": {
  "kernelspec": {
   "display_name": "Python 3",
   "language": "python",
   "name": "python3"
  },
  "language_info": {
   "codemirror_mode": {
    "name": "ipython",
    "version": 3
   },
   "file_extension": ".py",
   "mimetype": "text/x-python",
   "name": "python",
   "nbconvert_exporter": "python",
   "pygments_lexer": "ipython3",
   "version": "3.5.3"
  }
 },
 "nbformat": 4,
 "nbformat_minor": 2
}
