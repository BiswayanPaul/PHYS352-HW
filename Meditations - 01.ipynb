{
 "cells": [
  {
   "cell_type": "code",
   "execution_count": null,
   "metadata": {
    "collapsed": true
   },
   "outputs": [],
   "source": []
  },
  {
   "cell_type": "markdown",
   "metadata": {},
   "source": [
    "# A meditation on sympy\n",
    "\n",
    "I'm interested in the idea of working upper level undergraduate physics problems which are not explicitly numerical on a computer. This runs counter to the way we typically approach teaching this material, but if I'm honest, that's part of why I find it intriguing.\n",
    "\n",
    "To better see what some of the issues are, I thought I'd work through a few problems in `sympy`.\n",
    "\n",
    "The following examples are taken from chapter 2 of **div grad curl and all that** by h. m. schey."
   ]
  },
  {
   "cell_type": "markdown",
   "metadata": {},
   "source": [
    "## Finding the normal to a surface\n",
    "\n",
    "Schey derives an expression for the normal to a surface: $$ \\mathbf{\\hat n} = {-\\mathbf{i}{\\partial f\\over\\partial x} - \\mathbf{j}{\\partial f \\over \\partial y} + \\mathbf{k} \\over \\sqrt{1 + \\left({\\partial f\\over \\partial x}\\right)^2 + \\left({\\partial f \\over \\partial y}\\right)^2}},$$\n",
    "assuming that we can define the surface in terms of $z = f(x,y)$.\n",
    "\n",
    "To cement this idea, he gives the following exercise:\n",
    "\n",
    "### Problem II-1\n",
    "Find a unit vector normal to each of the following surfaces:\n",
    "1. $z = 2 - x - y$\n",
    "2. $z = \\left(x^2+y^2\\right)^{1/2}$\n",
    "3. $z = \\left(1-x^2\\right)^{1/2}$\n",
    "4. $z = x^2 + y^2$\n",
    "5. $z = \\left(1 - x^2/a^2 - y^2/a^2\\right)^{1/2}$\n",
    "\n",
    "Let's see if we can tackle this with `sympy`."
   ]
  },
  {
   "cell_type": "code",
   "execution_count": 1,
   "metadata": {
    "collapsed": true
   },
   "outputs": [],
   "source": [
    "import sympy as sp\n",
    "sp.init_printing()"
   ]
  },
  {
   "cell_type": "code",
   "execution_count": 2,
   "metadata": {
    "collapsed": true
   },
   "outputs": [],
   "source": [
    "n, x, y, z = sp.symbols('n x y z')"
   ]
  },
  {
   "cell_type": "code",
   "execution_count": 3,
   "metadata": {
    "collapsed": true
   },
   "outputs": [],
   "source": [
    "z = 2 - x - y"
   ]
  },
  {
   "cell_type": "code",
   "execution_count": 4,
   "metadata": {},
   "outputs": [
    {
     "data": {
      "image/png": "[encoded data removed]",
      "text/latex": [
       "$$-1$$"
      ],
      "text/plain": [
       "-1"
      ]
     },
     "execution_count": 4,
     "metadata": {},
     "output_type": "execute_result"
    }
   ],
   "source": [
    "sp.diff(z, x)"
   ]
  },
  {
   "cell_type": "code",
   "execution_count": 5,
   "metadata": {
    "collapsed": true
   },
   "outputs": [],
   "source": [
    "def normalvec(f, rowvec=False):\n",
    "    \"\"\"finds a normal vector to the surface defined by z=f(x,y).\"\"\"\n",
    "    dfdx = sp.diff(f, x)\n",
    "    dfdy = sp.diff(f, y)\n",
    "    norm = sp.sqrt(1 + dfdx**2 + dfdy**2)\n",
    "    \n",
    "    # this makes a row vector\n",
    "    nhat = sp.Matrix([[-dfdx, -dfdy, 1]])/norm\n",
    "    \n",
    "    if rowvec:\n",
    "        return nhat\n",
    "    else:\n",
    "        # returning the transpose makes it a column vector\n",
    "        return nhat.T\n",
    "    "
   ]
  },
  {
   "cell_type": "code",
   "execution_count": 6,
   "metadata": {},
   "outputs": [
    {
     "data": {
      "image/png": "[encoded data removed]",
      "text/latex": [
       "$$\\left[\\begin{matrix}\\frac{\\sqrt{3}}{3} & \\frac{\\sqrt{3}}{3} & \\frac{\\sqrt{3}}{3}\\end{matrix}\\right]$$"
      ],
      "text/plain": [
       "⎡√3  √3  √3⎤\n",
       "⎢──  ──  ──⎥\n",
       "⎣3   3   3 ⎦"
      ]
     },
     "execution_count": 6,
     "metadata": {},
     "output_type": "execute_result"
    }
   ],
   "source": [
    "normalvec(z, rowvec=True)"
   ]
  },
  {
   "cell_type": "code",
   "execution_count": 7,
   "metadata": {},
   "outputs": [
    {
     "data": {
      "image/png": "[encoded data removed]",
      "text/latex": [
       "$$\\left[\\begin{matrix}- \\frac{\\sqrt{2} x}{2 \\sqrt{x^{2} + y^{2}}}\\\\- \\frac{\\sqrt{2} y}{2 \\sqrt{x^{2} + y^{2}}}\\\\\\frac{\\sqrt{2}}{2}\\end{matrix}\\right]$$"
      ],
      "text/plain": [
       "⎡    -√2⋅x     ⎤\n",
       "⎢──────────────⎥\n",
       "⎢     _________⎥\n",
       "⎢    ╱  2    2 ⎥\n",
       "⎢2⋅╲╱  x  + y  ⎥\n",
       "⎢              ⎥\n",
       "⎢    -√2⋅y     ⎥\n",
       "⎢──────────────⎥\n",
       "⎢     _________⎥\n",
       "⎢    ╱  2    2 ⎥\n",
       "⎢2⋅╲╱  x  + y  ⎥\n",
       "⎢              ⎥\n",
       "⎢      √2      ⎥\n",
       "⎢      ──      ⎥\n",
       "⎣      2       ⎦"
      ]
     },
     "execution_count": 7,
     "metadata": {},
     "output_type": "execute_result"
    }
   ],
   "source": [
    "sp.simplify(normalvec(sp.sqrt(x**2 + y**2)))"
   ]
  },
  {
   "cell_type": "code",
   "execution_count": 8,
   "metadata": {},
   "outputs": [
    {
     "data": {
      "image/png": "[encoded data removed]",
      "text/latex": [
       "$$\\left[\\begin{matrix}\\frac{x}{\\sqrt{- x^{2} + 1} \\sqrt{\\frac{x^{2}}{- x^{2} + 1} + 1}}\\\\0\\\\\\frac{1}{\\sqrt{\\frac{x^{2}}{- x^{2} + 1} + 1}}\\end{matrix}\\right]$$"
      ],
      "text/plain": [
       "⎡                x                 ⎤\n",
       "⎢──────────────────────────────────⎥\n",
       "⎢                    ______________⎥\n",
       "⎢   __________      ╱     2        ⎥\n",
       "⎢  ╱    2          ╱     x         ⎥\n",
       "⎢╲╱  - x  + 1 ⋅   ╱   ──────── + 1 ⎥\n",
       "⎢                ╱       2         ⎥\n",
       "⎢              ╲╱     - x  + 1     ⎥\n",
       "⎢                                  ⎥\n",
       "⎢                0                 ⎥\n",
       "⎢                                  ⎥\n",
       "⎢                1                 ⎥\n",
       "⎢       ────────────────────       ⎥\n",
       "⎢             ______________       ⎥\n",
       "⎢            ╱     2               ⎥\n",
       "⎢           ╱     x                ⎥\n",
       "⎢          ╱   ──────── + 1        ⎥\n",
       "⎢         ╱       2                ⎥\n",
       "⎣       ╲╱     - x  + 1            ⎦"
      ]
     },
     "execution_count": 8,
     "metadata": {},
     "output_type": "execute_result"
    }
   ],
   "source": [
    "normalvec(sp.sqrt(1-x**2 ))"
   ]
  },
  {
   "cell_type": "code",
   "execution_count": 9,
   "metadata": {},
   "outputs": [
    {
     "data": {
      "image/png": "[encoded data removed]",
      "text/latex": [
       "$$\\left[\\begin{matrix}\\frac{x}{\\sqrt{- \\frac{1}{x^{2} - 1}} \\sqrt{- x^{2} + 1}}\\\\0\\\\\\frac{1}{\\sqrt{- \\frac{1}{x^{2} - 1}}}\\end{matrix}\\right]$$"
      ],
      "text/plain": [
       "⎡             x             ⎤\n",
       "⎢───────────────────────────⎥\n",
       "⎢     ________    __________⎥\n",
       "⎢    ╱  -1       ╱    2     ⎥\n",
       "⎢   ╱  ────── ⋅╲╱  - x  + 1 ⎥\n",
       "⎢  ╱    2                   ⎥\n",
       "⎢╲╱    x  - 1               ⎥\n",
       "⎢                           ⎥\n",
       "⎢             0             ⎥\n",
       "⎢                           ⎥\n",
       "⎢             1             ⎥\n",
       "⎢       ─────────────       ⎥\n",
       "⎢            ________       ⎥\n",
       "⎢           ╱  -1           ⎥\n",
       "⎢          ╱  ──────        ⎥\n",
       "⎢         ╱    2            ⎥\n",
       "⎣       ╲╱    x  - 1        ⎦"
      ]
     },
     "execution_count": 9,
     "metadata": {},
     "output_type": "execute_result"
    }
   ],
   "source": [
    "sp.simplify(normalvec(sp.sqrt(1-x**2 )))"
   ]
  },
  {
   "cell_type": "code",
   "execution_count": 10,
   "metadata": {},
   "outputs": [
    {
     "data": {
      "image/png": "[encoded data removed]",
      "text/latex": [
       "$$\\left[\\begin{matrix}- \\frac{2 x}{\\sqrt{4 x^{2} + 4 y^{2} + 1}}\\\\- \\frac{2 y}{\\sqrt{4 x^{2} + 4 y^{2} + 1}}\\\\\\frac{1}{\\sqrt{4 x^{2} + 4 y^{2} + 1}}\\end{matrix}\\right]$$"
      ],
      "text/plain": [
       "⎡       -2⋅x         ⎤\n",
       "⎢────────────────────⎥\n",
       "⎢   _________________⎥\n",
       "⎢  ╱    2      2     ⎥\n",
       "⎢╲╱  4⋅x  + 4⋅y  + 1 ⎥\n",
       "⎢                    ⎥\n",
       "⎢       -2⋅y         ⎥\n",
       "⎢────────────────────⎥\n",
       "⎢   _________________⎥\n",
       "⎢  ╱    2      2     ⎥\n",
       "⎢╲╱  4⋅x  + 4⋅y  + 1 ⎥\n",
       "⎢                    ⎥\n",
       "⎢         1          ⎥\n",
       "⎢────────────────────⎥\n",
       "⎢   _________________⎥\n",
       "⎢  ╱    2      2     ⎥\n",
       "⎣╲╱  4⋅x  + 4⋅y  + 1 ⎦"
      ]
     },
     "execution_count": 10,
     "metadata": {},
     "output_type": "execute_result"
    }
   ],
   "source": [
    "normalvec(x**2 + y**2)"
   ]
  },
  {
   "cell_type": "code",
   "execution_count": 11,
   "metadata": {},
   "outputs": [
    {
     "data": {
      "image/png": "[encoded data removed]",
      "text/latex": [
       "$$\\left[\\begin{matrix}\\frac{x}{a^{2} \\sqrt{1 - \\frac{x^{2}}{a^{2}} - \\frac{y^{2}}{a^{2}}} \\sqrt{1 + \\frac{x^{2}}{a^{4} \\left(1 - \\frac{x^{2}}{a^{2}} - \\frac{y^{2}}{a^{2}}\\right)} + \\frac{y^{2}}{a^{4} \\left(1 - \\frac{x^{2}}{a^{2}} - \\frac{y^{2}}{a^{2}}\\right)}}}\\\\\\frac{y}{a^{2} \\sqrt{1 - \\frac{x^{2}}{a^{2}} - \\frac{y^{2}}{a^{2}}} \\sqrt{1 + \\frac{x^{2}}{a^{4} \\left(1 - \\frac{x^{2}}{a^{2}} - \\frac{y^{2}}{a^{2}}\\right)} + \\frac{y^{2}}{a^{4} \\left(1 - \\frac{x^{2}}{a^{2}} - \\frac{y^{2}}{a^{2}}\\right)}}}\\\\\\frac{1}{\\sqrt{1 + \\frac{x^{2}}{a^{4} \\left(1 - \\frac{x^{2}}{a^{2}} - \\frac{y^{2}}{a^{2}}\\right)} + \\frac{y^{2}}{a^{4} \\left(1 - \\frac{x^{2}}{a^{2}} - \\frac{y^{2}}{a^{2}}\\right)}}}\\end{matrix}\\right]$$"
      ],
      "text/plain": [
       "⎡                                    x                                    ⎤\n",
       "⎢─────────────────────────────────────────────────────────────────────────⎥\n",
       "⎢         _____________          _________________________________________⎥\n",
       "⎢        ╱      2    2          ╱             2                  2        ⎥\n",
       "⎢ 2     ╱      x    y          ╱             x                  y         ⎥\n",
       "⎢a ⋅   ╱   1 - ── - ── ⋅      ╱   1 + ──────────────── + ──────────────── ⎥\n",
       "⎢     ╱         2    2       ╱           ⎛     2    2⎞      ⎛     2    2⎞ ⎥\n",
       "⎢   ╲╱         a    a       ╱          4 ⎜    x    y ⎟    4 ⎜    x    y ⎟ ⎥\n",
       "⎢                          ╱          a ⋅⎜1 - ── - ──⎟   a ⋅⎜1 - ── - ──⎟ ⎥\n",
       "⎢                         ╱              ⎜     2    2⎟      ⎜     2    2⎟ ⎥\n",
       "⎢                       ╲╱               ⎝    a    a ⎠      ⎝    a    a ⎠ ⎥\n",
       "⎢                                                                         ⎥\n",
       "⎢                                    y                                    ⎥\n",
       "⎢─────────────────────────────────────────────────────────────────────────⎥\n",
       "⎢         _____________          _________________________________________⎥\n",
       "⎢        ╱      2    2          ╱             2                  2        ⎥\n",
       "⎢ 2     ╱      x    y          ╱             x                  y         ⎥\n",
       "⎢a ⋅   ╱   1 - ── - ── ⋅      ╱   1 + ──────────────── + ──────────────── ⎥\n",
       "⎢     ╱         2    2       ╱           ⎛     2    2⎞      ⎛     2    2⎞ ⎥\n",
       "⎢   ╲╱         a    a       ╱          4 ⎜    x    y ⎟    4 ⎜    x    y ⎟ ⎥\n",
       "⎢                          ╱          a ⋅⎜1 - ── - ──⎟   a ⋅⎜1 - ── - ──⎟ ⎥\n",
       "⎢                         ╱              ⎜     2    2⎟      ⎜     2    2⎟ ⎥\n",
       "⎢                       ╲╱               ⎝    a    a ⎠      ⎝    a    a ⎠ ⎥\n",
       "⎢                                                                         ⎥\n",
       "⎢                                   1                                     ⎥\n",
       "⎢           ──────────────────────────────────────────────────            ⎥\n",
       "⎢                    _________________________________________            ⎥\n",
       "⎢                   ╱             2                  2                    ⎥\n",
       "⎢                  ╱             x                  y                     ⎥\n",
       "⎢                 ╱   1 + ──────────────── + ────────────────             ⎥\n",
       "⎢                ╱           ⎛     2    2⎞      ⎛     2    2⎞             ⎥\n",
       "⎢               ╱          4 ⎜    x    y ⎟    4 ⎜    x    y ⎟             ⎥\n",
       "⎢              ╱          a ⋅⎜1 - ── - ──⎟   a ⋅⎜1 - ── - ──⎟             ⎥\n",
       "⎢             ╱              ⎜     2    2⎟      ⎜     2    2⎟             ⎥\n",
       "⎣           ╲╱               ⎝    a    a ⎠      ⎝    a    a ⎠             ⎦"
      ]
     },
     "execution_count": 11,
     "metadata": {},
     "output_type": "execute_result"
    }
   ],
   "source": [
    "a = sp.symbols('a')\n",
    "normalvec(sp.sqrt(1 - x**2/a**2 - y**2/a**2))"
   ]
  },
  {
   "cell_type": "code",
   "execution_count": 12,
   "metadata": {},
   "outputs": [
    {
     "data": {
      "image/png": "[encoded data removed]",
      "text/latex": [
       "$$\\left[\\begin{matrix}\\frac{x}{a^{2} \\sqrt{\\frac{1}{a^{2}} \\left(a^{2} - x^{2} - y^{2}\\right)} \\sqrt{\\frac{a^{2} \\left(- a^{2} + x^{2} + y^{2}\\right) - x^{2} - y^{2}}{a^{2} \\left(- a^{2} + x^{2} + y^{2}\\right)}}}\\\\\\frac{y}{a^{2} \\sqrt{\\frac{1}{a^{2}} \\left(a^{2} - x^{2} - y^{2}\\right)} \\sqrt{\\frac{a^{2} \\left(- a^{2} + x^{2} + y^{2}\\right) - x^{2} - y^{2}}{a^{2} \\left(- a^{2} + x^{2} + y^{2}\\right)}}}\\\\\\frac{1}{\\sqrt{\\frac{a^{2} \\left(- a^{2} + x^{2} + y^{2}\\right) - x^{2} - y^{2}}{a^{2} \\left(- a^{2} + x^{2} + y^{2}\\right)}}}\\end{matrix}\\right]$$"
      ],
      "text/plain": [
       "⎡                              x                              ⎤\n",
       "⎢─────────────────────────────────────────────────────────────⎥\n",
       "⎢         ______________       _______________________________⎥\n",
       "⎢        ╱  2    2    2       ╱  2 ⎛   2    2    2⎞    2    2 ⎥\n",
       "⎢ 2     ╱  a  - x  - y       ╱  a ⋅⎝- a  + x  + y ⎠ - x  - y  ⎥\n",
       "⎢a ⋅   ╱   ──────────── ⋅   ╱   ───────────────────────────── ⎥\n",
       "⎢     ╱          2         ╱          2 ⎛   2    2    2⎞      ⎥\n",
       "⎢   ╲╱          a        ╲╱          a ⋅⎝- a  + x  + y ⎠      ⎥\n",
       "⎢                                                             ⎥\n",
       "⎢                              y                              ⎥\n",
       "⎢─────────────────────────────────────────────────────────────⎥\n",
       "⎢         ______________       _______________________________⎥\n",
       "⎢        ╱  2    2    2       ╱  2 ⎛   2    2    2⎞    2    2 ⎥\n",
       "⎢ 2     ╱  a  - x  - y       ╱  a ⋅⎝- a  + x  + y ⎠ - x  - y  ⎥\n",
       "⎢a ⋅   ╱   ──────────── ⋅   ╱   ───────────────────────────── ⎥\n",
       "⎢     ╱          2         ╱          2 ⎛   2    2    2⎞      ⎥\n",
       "⎢   ╲╱          a        ╲╱          a ⋅⎝- a  + x  + y ⎠      ⎥\n",
       "⎢                                                             ⎥\n",
       "⎢                              1                              ⎥\n",
       "⎢            ─────────────────────────────────────            ⎥\n",
       "⎢                  _______________________________            ⎥\n",
       "⎢                 ╱  2 ⎛   2    2    2⎞    2    2             ⎥\n",
       "⎢                ╱  a ⋅⎝- a  + x  + y ⎠ - x  - y              ⎥\n",
       "⎢               ╱   ─────────────────────────────             ⎥\n",
       "⎢              ╱          2 ⎛   2    2    2⎞                  ⎥\n",
       "⎣            ╲╱          a ⋅⎝- a  + x  + y ⎠                  ⎦"
      ]
     },
     "execution_count": 12,
     "metadata": {},
     "output_type": "execute_result"
    }
   ],
   "source": [
    "sp.simplify(normalvec(sp.sqrt(1 - x**2/a**2 - y**2/a**2)))"
   ]
  },
  {
   "cell_type": "code",
   "execution_count": 13,
   "metadata": {
    "collapsed": true
   },
   "outputs": [],
   "source": [
    "nhat = sp.simplify(normalvec(sp.sqrt(1 - x**2/a**2 - y**2/a**2)))"
   ]
  },
  {
   "cell_type": "code",
   "execution_count": 14,
   "metadata": {},
   "outputs": [
    {
     "data": {
      "image/png": "[encoded data removed]",
      "text/latex": [
       "$$\\left[\\begin{matrix}1\\end{matrix}\\right]$$"
      ],
      "text/plain": [
       "[1]"
      ]
     },
     "execution_count": 14,
     "metadata": {},
     "output_type": "execute_result"
    }
   ],
   "source": [
    "sp.simplify(nhat.T * nhat)"
   ]
  },
  {
   "cell_type": "markdown",
   "metadata": {},
   "source": [
    "Not very difficult, but the last few are not very tidy. Perhaps working through this with different assumptions applied to our symbols (see below) would have yielded cleaner results.\n",
    "\n",
    "\n",
    "##### Summary:\n",
    "\n",
    "For this type of problem (\"practice an operation to build skills/fluency/intuition\") one way to approach it with `sympy` is to write a python function that carries out the operations you want to do in the proper order, and then returns the appropriate result. Often you'll want to walk through the process (or part of the process) by hand first, before writing it into a function.\n",
    "\n",
    "Another approach would be to use direct substitution on the original expression, and then have sympy evaluate the derivatives. I use this latter approach below.\n",
    "\n",
    "\n",
    "----\n",
    "\n",
    "\n",
    "There are at least two other kinds of problem that are common in physics classes, however. The first of these is exemplified by Schey's problem II-2:\n",
    "\n",
    "### Problem II-2\n",
    "Show that the vector normal to the plane $$ax + by + cz = d$$ is given by $$\\mathbf{n} = \\pm\\left( \\mathbf{i}a + \\mathbf{j}b + \\mathbf{k}c\\right)/\\left( a^2 + b^2 + c^2\\right)^{1/2}.$$\n",
    "\n",
    "We might call this a \"Missouri\" problem, based on the first two words (and the fact that Missouri is the \"Show Me\" state). We could also call this a manipulation problem, since the goal is to manipulate the givens until they look like the desired end result. Let's see how to do this with `sympy`."
   ]
  },
  {
   "cell_type": "code",
   "execution_count": 15,
   "metadata": {
    "collapsed": true
   },
   "outputs": [],
   "source": [
    "a,b,c,d,x,y,z = sp.symbols('a b c d x y z')\n"
   ]
  },
  {
   "cell_type": "markdown",
   "metadata": {},
   "source": [
    "Start with what we're given.  Make sure it matches what was given above."
   ]
  },
  {
   "cell_type": "code",
   "execution_count": 16,
   "metadata": {},
   "outputs": [
    {
     "data": {
      "image/png": "[encoded data removed]",
      "text/latex": [
       "$$a x + b y + c z = d$$"
      ],
      "text/plain": [
       "a⋅x + b⋅y + c⋅z = d"
      ]
     },
     "execution_count": 16,
     "metadata": {},
     "output_type": "execute_result"
    }
   ],
   "source": [
    "sp.Eq(a*x + b*y + c*z, d)"
   ]
  },
  {
   "cell_type": "markdown",
   "metadata": {},
   "source": [
    "We want to solve this for $z$, so we can apply the unit normal function that we used in problem II-1.  We ought to have `sympy` do this for us."
   ]
  },
  {
   "cell_type": "code",
   "execution_count": 17,
   "metadata": {},
   "outputs": [
    {
     "data": {
      "image/png": "[encoded data removed]",
      "text/latex": [
       "$$\\left [ \\frac{1}{c} \\left(- a x - b y + d\\right)\\right ]$$"
      ],
      "text/plain": [
       "⎡-a⋅x - b⋅y + d⎤\n",
       "⎢──────────────⎥\n",
       "⎣      c       ⎦"
      ]
     },
     "execution_count": 17,
     "metadata": {},
     "output_type": "execute_result"
    }
   ],
   "source": [
    "sp.solve(sp.Eq(a*x + b*y + c*z, d), z)"
   ]
  },
  {
   "cell_type": "markdown",
   "metadata": {},
   "source": [
    "... but the output of `sympy.solve()` is a list of solutions (even though it has only one element; that's what the square brackets mean). We'll slice out that element and assign it to a variable. The most obvious choice is $z$, but we could go with anything we wanted. Again, printing an intermediate result shows us that we haven't made any coding mistakes so far."
   ]
  },
  {
   "cell_type": "code",
   "execution_count": 18,
   "metadata": {},
   "outputs": [
    {
     "data": {
      "image/png": "[encoded data removed]",
      "text/latex": [
       "$$\\frac{1}{c} \\left(- a x - b y + d\\right)$$"
      ],
      "text/plain": [
       "-a⋅x - b⋅y + d\n",
       "──────────────\n",
       "      c       "
      ]
     },
     "execution_count": 18,
     "metadata": {},
     "output_type": "execute_result"
    }
   ],
   "source": [
    "z = sp.solve(sp.Eq(a*x + b*y + c*z, d), z)[0]\n",
    "z"
   ]
  },
  {
   "cell_type": "markdown",
   "metadata": {},
   "source": [
    "Now, we have our surface defined in a form that will feed right into the function we defined for problem II-1, above. We could write it again, but it's easier just to reuse it."
   ]
  },
  {
   "cell_type": "code",
   "execution_count": 19,
   "metadata": {},
   "outputs": [
    {
     "data": {
      "image/png": "[encoded data removed]",
      "text/latex": [
       "$$\\left[\\begin{matrix}\\frac{a}{c \\sqrt{\\frac{a^{2}}{c^{2}} + \\frac{b^{2}}{c^{2}} + 1}} & \\frac{b}{c \\sqrt{\\frac{a^{2}}{c^{2}} + \\frac{b^{2}}{c^{2}} + 1}} & \\frac{1}{\\sqrt{\\frac{a^{2}}{c^{2}} + \\frac{b^{2}}{c^{2}} + 1}}\\end{matrix}\\right]$$"
      ],
      "text/plain": [
       "⎡          a                      b                     1         ⎤\n",
       "⎢─────────────────────  ─────────────────────  ───────────────────⎥\n",
       "⎢        _____________          _____________        _____________⎥\n",
       "⎢       ╱  2    2              ╱  2    2            ╱  2    2     ⎥\n",
       "⎢      ╱  a    b              ╱  a    b            ╱  a    b      ⎥\n",
       "⎢c⋅   ╱   ── + ── + 1   c⋅   ╱   ── + ── + 1      ╱   ── + ── + 1 ⎥\n",
       "⎢    ╱     2    2           ╱     2    2         ╱     2    2     ⎥\n",
       "⎣  ╲╱     c    c          ╲╱     c    c        ╲╱     c    c      ⎦"
      ]
     },
     "execution_count": 19,
     "metadata": {},
     "output_type": "execute_result"
    }
   ],
   "source": [
    "nhat = normalvec(z, rowvec=True)\n",
    "nhat"
   ]
  },
  {
   "cell_type": "markdown",
   "metadata": {},
   "source": [
    "This is the same (apart from simplification) as our desired result, but that may not be immediately obvious to everyone. We can check the equality of two expressions in three different ways. The first checks to see if they are semantically identical (i.e., do they consist of the same set of symbols in the same order?). Due to the differences in simplification, we ought to fail this test."
   ]
  },
  {
   "cell_type": "code",
   "execution_count": 20,
   "metadata": {},
   "outputs": [
    {
     "data": {
      "image/png": "[encoded data removed]",
      "text/latex": [
       "$$\\left[\\begin{matrix}\\frac{a}{\\sqrt{a^{2} + b^{2} + c^{2}}} & \\frac{b}{\\sqrt{a^{2} + b^{2} + c^{2}}} & \\frac{c}{\\sqrt{a^{2} + b^{2} + c^{2}}}\\end{matrix}\\right]$$"
      ],
      "text/plain": [
       "⎡        a                  b                  c        ⎤\n",
       "⎢─────────────────  ─────────────────  ─────────────────⎥\n",
       "⎢   ______________     ______________     ______________⎥\n",
       "⎢  ╱  2    2    2     ╱  2    2    2     ╱  2    2    2 ⎥\n",
       "⎣╲╱  a  + b  + c    ╲╱  a  + b  + c    ╲╱  a  + b  + c  ⎦"
      ]
     },
     "execution_count": 20,
     "metadata": {},
     "output_type": "execute_result"
    }
   ],
   "source": [
    "desired_result = sp.Matrix([[a, b, c]])/sp.sqrt(a**2 + b**2 + c**2)\n",
    "desired_result"
   ]
  },
  {
   "cell_type": "code",
   "execution_count": 21,
   "metadata": {},
   "outputs": [
    {
     "data": {
      "text/plain": [
       "False"
      ]
     },
     "execution_count": 21,
     "metadata": {},
     "output_type": "execute_result"
    }
   ],
   "source": [
    "nhat == desired_result"
   ]
  },
  {
   "cell_type": "markdown",
   "metadata": {},
   "source": [
    "As expected.\n",
    "\n",
    "The second way to check equality is to subtract the two expressions and simplify, and see if we get zero. That ought to work."
   ]
  },
  {
   "cell_type": "code",
   "execution_count": 22,
   "metadata": {},
   "outputs": [
    {
     "data": {
      "image/png": "[encoded data removed]",
      "text/latex": [
       "$$\\left[\\begin{matrix}- \\frac{a}{\\sqrt{a^{2} + b^{2} + c^{2}}} + \\frac{a}{c \\sqrt{\\frac{a^{2}}{c^{2}} + \\frac{b^{2}}{c^{2}} + 1}} & - \\frac{b}{\\sqrt{a^{2} + b^{2} + c^{2}}} + \\frac{b}{c \\sqrt{\\frac{a^{2}}{c^{2}} + \\frac{b^{2}}{c^{2}} + 1}} & - \\frac{c}{\\sqrt{a^{2} + b^{2} + c^{2}}} + \\frac{1}{\\sqrt{\\frac{a^{2}}{c^{2}} + \\frac{b^{2}}{c^{2}} + 1}}\\end{matrix}\\right]$$"
      ],
      "text/plain": [
       "⎡          a                     a                      b                     \n",
       "⎢- ───────────────── + ─────────────────────  - ───────────────── + ──────────\n",
       "⎢     ______________           _____________       ______________           __\n",
       "⎢    ╱  2    2    2           ╱  2    2           ╱  2    2    2           ╱  \n",
       "⎢  ╲╱  a  + b  + c           ╱  a    b          ╲╱  a  + b  + c           ╱  a\n",
       "⎢                      c⋅   ╱   ── + ── + 1                         c⋅   ╱   ─\n",
       "⎢                          ╱     2    2                                 ╱     \n",
       "⎣                        ╲╱     c    c                                ╲╱     c\n",
       "\n",
       "b                      c                    1         ⎤\n",
       "───────────  - ───────────────── + ───────────────────⎥\n",
       "___________       ______________         _____________⎥\n",
       "2    2           ╱  2    2    2         ╱  2    2     ⎥\n",
       "    b          ╲╱  a  + b  + c         ╱  a    b      ⎥\n",
       "─ + ── + 1                            ╱   ── + ── + 1 ⎥\n",
       "2    2                               ╱     2    2     ⎥\n",
       "    c                              ╲╱     c    c      ⎦"
      ]
     },
     "execution_count": 22,
     "metadata": {},
     "output_type": "execute_result"
    }
   ],
   "source": [
    "sp.simplify(nhat-desired_result)"
   ]
  },
  {
   "cell_type": "markdown",
   "metadata": {},
   "source": [
    "You can *kind* of see that this is working, but the cancellation we would expect doesn't take place, because of the square roots. If $c$ is complex, that can cause problems. Of course, we're using $a$, $b$, $c$, and $d$ to define a plane, so they ought to be positive, real constants. The easiest way to  tell `sympy` this is when you define the symbols, which means we start over from the beginning. We will omit the intermediate results in this version for the sake of brevity."
   ]
  },
  {
   "cell_type": "code",
   "execution_count": 23,
   "metadata": {},
   "outputs": [
    {
     "data": {
      "image/png": "[encoded data removed]",
      "text/latex": [
       "$$\\left[\\begin{matrix}0 & 0 & 0\\end{matrix}\\right]$$"
      ],
      "text/plain": [
       "[0  0  0]"
      ]
     },
     "execution_count": 23,
     "metadata": {},
     "output_type": "execute_result"
    }
   ],
   "source": [
    "# once more, with assumptions\n",
    "a,b,c,d = sp.symbols('a b c d', real=True, positive=True)\n",
    "\n",
    "# x, y, z aren't necessarily positive, but we don't need them to be real, either.\n",
    "x,y,z = sp.symbols('x y z')\n",
    "\n",
    "# this redefines z\n",
    "z = sp.solve(sp.Eq(a*x + b*y + c*z, d), z)[0]\n",
    "\n",
    "# our result\n",
    "nhat = normalvec(z, rowvec=True)\n",
    "\n",
    "# what we're looking for\n",
    "desired_result = sp.Matrix([[a, b, c]])/sp.sqrt(a**2 + b**2 + c**2)\n",
    "\n",
    "# check to see if they're equal\n",
    "sp.simplify(nhat-desired_result)"
   ]
  },
  {
   "cell_type": "markdown",
   "metadata": {},
   "source": [
    "Since the difference is zero, the two expressions are equal.\n",
    "\n",
    "\n",
    "The third way to check equality is to have `sympy` substitute in some numbers. Doing this well is complicated, and we don't need it here, so I'm not going to talk more about it at this time.\n",
    "\n",
    "\n",
    "##### Recapping:\n",
    "\n",
    "For this type of problem,  work out each step interactively, showing intermediate results. Finish off with some sort of test of equality between what you've generated from what you were given, and what you were trying to get. If they check out, you're done.\n",
    "\n",
    "----\n",
    "\n",
    "\n",
    "The third kind of problem that shows up in (especially upper level) physics classes is that you are asked to *derive a new (to you) result*.  This is exemplified by Schey's problem II-3.\n",
    "\n",
    "### Problem II-3\n",
    "Derive expressions for the unit normal vector for surfaces given by $y=g(x,z)$ and $x=h(y,z)$. Use each to rederive the normal to the plane found in problem II-2.\n",
    "\n",
    "The exact steps in any derivation will differ, but as is often the case in this kind of homework problem, we have a model laid out in the text. In this case you define two vectors that are tangent to the surface, and take their cross product. Since the cross product is orthogonal to the two vectors that went into it, the result will be orthogonal to the surface. Then, we can normalize it by dividing by its magnitude.\n",
    "\n",
    "The two vectors are made by intersecting planes with the surface. Figures II-4 and II-5 in the text give the idea.\n",
    "\n",
    "At this point, there are a couple of approaches. We have to work out derivations for two separate cases. We could either go ahead and do them separately, or we could try to code the method up in a general enough way so that it will work for both. There's nothing fundamentally wrong with the first approach, but it goes against the ethic of not repeating effort unless absolutely necessary. Also, the second approach, when done correctly, can demonstrate a deeper understanding of what's actually going on in the derivation.\n",
    "\n",
    "Since this needs to work with arbitrary functions, that's where we will begin."
   ]
  },
  {
   "cell_type": "code",
   "execution_count": 24,
   "metadata": {
    "collapsed": true
   },
   "outputs": [],
   "source": [
    "from sympy import Function"
   ]
  },
  {
   "cell_type": "markdown",
   "metadata": {},
   "source": [
    "We can define arbitrary functions with or without arguments in `sympy`. Since we know in advance what the arguments will be in this case, we can go ahead and include the arguments in the definition."
   ]
  },
  {
   "cell_type": "code",
   "execution_count": 25,
   "metadata": {
    "collapsed": true
   },
   "outputs": [],
   "source": [
    "x,y,z = sp.symbols('x y z')\n",
    "\n",
    "g = Function('g')(x, z)\n",
    "h = Function('h')(y, z)"
   ]
  },
  {
   "cell_type": "markdown",
   "metadata": {},
   "source": [
    "We're going to want to use a little bit of *introspection* to figure out what the arguments of each function are, so that we can treat $g(x,z)$ differently from $h(y,z)$. The most compact and efficient way to do this makes use of two `python` features you may not have seen, so I'll walk through the whole process slowly.\n",
    "\n",
    "First of all, we need to know the arguments of a function. Fortunately, `sympy` functions provide this."
   ]
  },
  {
   "cell_type": "code",
   "execution_count": 26,
   "metadata": {},
   "outputs": [
    {
     "data": {
      "image/png": "[encoded data removed]",
      "text/latex": [
       "$$\\left ( x, \\quad z\\right )$$"
      ],
      "text/plain": [
       "(x, z)"
      ]
     },
     "execution_count": 26,
     "metadata": {},
     "output_type": "execute_result"
    }
   ],
   "source": [
    "g.args"
   ]
  },
  {
   "cell_type": "markdown",
   "metadata": {},
   "source": [
    "The next thing we need is a *list comprehension*. Basically, it's a compact and efficient way to construct a list on the fly without explicitly writing loops.\n",
    "\n",
    "Let's say I have a collection of coordinates, and I want to build a list that consists of some test or operation applied to each of those coordinates. In this case, the question I want to ask is, Is this coordinate present in the list of arguments to my function? Here I'm putting my coordinates in a tuple instead of a list (because tuples are immutable, and I don't want to be able to change my coordinates by accident) but either would work. "
   ]
  },
  {
   "cell_type": "code",
   "execution_count": 27,
   "metadata": {},
   "outputs": [
    {
     "data": {
      "text/plain": [
       "[True, False, True]"
      ]
     },
     "execution_count": 27,
     "metadata": {},
     "output_type": "execute_result"
    }
   ],
   "source": [
    "coords = (x,y,z)\n",
    "\n",
    "[coord in g.args for coord in coords]"
   ]
  },
  {
   "cell_type": "markdown",
   "metadata": {},
   "source": [
    "The way to read this is: make a list (the outer square brackets) of whether or not a variable occurs in the arguments of $g$ (`coord in g.args`); where the variables you test are the ones in my collection of coordinates (`for coord in coords`).\n",
    "\n",
    "If you're new-ish to python, this may look strange, because we're using the word `in` in two slightly different ways. In the first case, we're asking a question: Is `coord` present in the collection `g.args`? In the second case, we're providing a collection of values to use: \"I want you to take each value of this collection called `coords`, and insert it into the previous question where you found the symbol `coord`. The result will be an element in our final list.\"\n",
    "\n",
    "In this case, $x$ and $z$ are in `g.args`, but $y$ is not, so our result is `[True, False, True]`.\n",
    "\n",
    "Now, we want to use this result to pull out the missing coordinate. There's more than one way to do this, but the best way makes use of a feature present in numpy arrays (but not, sadly, in regular python lists) called *Boolean indexing*.  The idea is that we will use an array of truth values as a mask for the array we're interested in, only returning the ones that are true. Here it is in action:"
   ]
  },
  {
   "cell_type": "code",
   "execution_count": 28,
   "metadata": {},
   "outputs": [
    {
     "data": {
      "text/plain": [
       "array([x, z], dtype=object)"
      ]
     },
     "execution_count": 28,
     "metadata": {},
     "output_type": "execute_result"
    }
   ],
   "source": [
    "import numpy as np\n",
    "\n",
    "coords = np.array((x,y,z))\n",
    "\n",
    "mask = [coord in g.args for coord in coords]\n",
    "\n",
    "coords[mask]"
   ]
  },
  {
   "cell_type": "markdown",
   "metadata": {},
   "source": [
    "We threw away $y$, because it was `False` in the mask. That's the opposite of what we want, so let's change the definition of our mask to be true for coordinates *not* in the argument list of $g$."
   ]
  },
  {
   "cell_type": "code",
   "execution_count": 29,
   "metadata": {},
   "outputs": [
    {
     "data": {
      "text/plain": [
       "array([y], dtype=object)"
      ]
     },
     "execution_count": 29,
     "metadata": {},
     "output_type": "execute_result"
    }
   ],
   "source": [
    "coords = np.array((x,y,z))\n",
    "\n",
    "mask = [var not in g.args for var in coords]\n",
    "coords[mask]"
   ]
  },
  {
   "cell_type": "markdown",
   "metadata": {},
   "source": [
    "We're almost there, but we don't want an array, we just want the coordinate, so we slice out the first element."
   ]
  },
  {
   "cell_type": "code",
   "execution_count": 30,
   "metadata": {},
   "outputs": [
    {
     "data": {
      "image/png": "[encoded data removed]",
      "text/latex": [
       "$$y$$"
      ],
      "text/plain": [
       "y"
      ]
     },
     "execution_count": 30,
     "metadata": {},
     "output_type": "execute_result"
    }
   ],
   "source": [
    "coords = np.array((x,y,z))\n",
    "\n",
    "mask = [var not in g.args for var in coords]\n",
    "coords[mask][0]"
   ]
  },
  {
   "cell_type": "markdown",
   "metadata": {},
   "source": [
    "Perfect. Now, we're going to want to build some vectors. Since we're using row (or equivalently, column) matrices for our vectors, we need a way to translate between each coordinate and its position in the matrix. There is likely a more elegant way to do this, but the following approach is clear, and it works."
   ]
  },
  {
   "cell_type": "code",
   "execution_count": 31,
   "metadata": {
    "collapsed": true
   },
   "outputs": [],
   "source": [
    "def position_from_coordinate(coord):\n",
    "    \"\"\"Get the index of a coordinate for building vectors.\"\"\"\n",
    "    \n",
    "    # we don't want to depend on these being defined elsewhere.\n",
    "    x,y,z = sp.symbols('x y z')\n",
    "    \n",
    "    if coord == x:\n",
    "        return 0\n",
    "    elif coord == y:\n",
    "        return 1\n",
    "    elif coord == z:\n",
    "        return 2\n",
    "    else:\n",
    "        raise ValueError(\"Unknown Coordinate\")"
   ]
  },
  {
   "cell_type": "code",
   "execution_count": 32,
   "metadata": {},
   "outputs": [
    {
     "data": {
      "image/png": "[encoded data removed]",
      "text/latex": [
       "$$0$$"
      ],
      "text/plain": [
       "0"
      ]
     },
     "execution_count": 32,
     "metadata": {},
     "output_type": "execute_result"
    }
   ],
   "source": [
    "position_from_coordinate(x)"
   ]
  },
  {
   "cell_type": "code",
   "execution_count": 33,
   "metadata": {
    "collapsed": true
   },
   "outputs": [],
   "source": [
    "# takes: a function (func)\n",
    "def derive_normal_vector_formula(func, debug=False):\n",
    "    \"\"\"Given a function in two coordinates defining a surface, return a formula for\n",
    "    a vector normal to that surface.\n",
    "    \"\"\"\n",
    "\n",
    "    # figure out which coordinate is missing (the dependent variable)\n",
    "    x,y,z = sp.symbols('x y z')\n",
    "    coords = np.array((x,y,z))\n",
    "    dependent = coords[[var not in func.args for var in coords]][0]\n",
    "    if debug:\n",
    "        print(\"dependent variable: {}\".format(dependent))\n",
    "    \n",
    "    # get the position of the depenent variable\n",
    "    dep_pos = position_from_coordinate(dependent)\n",
    "\n",
    "    # debugging info\n",
    "    if debug:\n",
    "        print(\"dependent position: {}\".format(dep_pos))\n",
    "    \n",
    "    # set up storage for the vectors that go into the cross product\n",
    "    vecs = [None, None]\n",
    "    \n",
    "    # error checking\n",
    "    if len(func.args) != 2:\n",
    "        raise ValueError(\"func has wrong number of arguments: {} (2 expected)\", len(func.args))\n",
    "    \n",
    "    # for each coordinate that is present:\n",
    "    for index, coord in enumerate(func.args):\n",
    "        # get the position of that coordinate (the independent variable)\n",
    "        indep_pos = position_from_coordinate(coord)\n",
    "        \n",
    "        # make an empty row vector\n",
    "        vecs[index] = sp.Matrix([[0,0,0]])\n",
    "        \n",
    "        # the independent position in the empty row vector gets 1\n",
    "        vecs[index][0,indep_pos] = 1\n",
    "        \n",
    "        # the dependent position in the empty row vector gets d/d(independent) func\n",
    "        vecs[index][0, dep_pos] = sp.diff(func, coord)\n",
    "        \n",
    "        # debugging:\n",
    "        if debug:\n",
    "            print(\"vector {}: {}\".format(index, vecs[index]))\n",
    "        \n",
    "    # take the cross product of the two vectors\n",
    "    n = vecs[0].cross(vecs[1])\n",
    "    \n",
    "    # normalize\n",
    "    nhat = n/sp.sqrt(n.dot(n))\n",
    "    \n",
    "    # return the result\n",
    "    return nhat"
   ]
  },
  {
   "cell_type": "markdown",
   "metadata": {},
   "source": [
    "Incidentally, inserting `print` statements as a debugging tool (while it works) is not best practice. It is **far** better to build your functions in such a way that you can apply unit tests to them. I didn't want to introduce the complexity of a unit testing framework at this stage, so in the interest of transparency, I used the quick-and-dirty `print` statement method.\n",
    "\n",
    "We are now ready to execute this and derive the two formulae we've been asked for. Just as a check, let's start with the one given in the text to make sure everything is working."
   ]
  },
  {
   "cell_type": "code",
   "execution_count": 34,
   "metadata": {
    "collapsed": true
   },
   "outputs": [],
   "source": [
    "x,y,z = sp.symbols('x y z')\n",
    "\n",
    "f = Function('f')(x, y)\n",
    "g = Function('g')(x, z)\n",
    "h = Function('h')(y, z)"
   ]
  },
  {
   "cell_type": "code",
   "execution_count": 35,
   "metadata": {},
   "outputs": [
    {
     "data": {
      "image/png": "[encoded data removed]",
      "text/latex": [
       "$$\\left[\\begin{matrix}- \\frac{\\frac{\\partial}{\\partial x} f{\\left (x,y \\right )}}{\\sqrt{\\frac{\\partial}{\\partial x} f{\\left (x,y \\right )}^{2} + \\frac{\\partial}{\\partial y} f{\\left (x,y \\right )}^{2} + 1}} & - \\frac{\\frac{\\partial}{\\partial y} f{\\left (x,y \\right )}}{\\sqrt{\\frac{\\partial}{\\partial x} f{\\left (x,y \\right )}^{2} + \\frac{\\partial}{\\partial y} f{\\left (x,y \\right )}^{2} + 1}} & \\frac{1}{\\sqrt{\\frac{\\partial}{\\partial x} f{\\left (x,y \\right )}^{2} + \\frac{\\partial}{\\partial y} f{\\left (x,y \\right )}^{2} + 1}}\\end{matrix}\\right]$$"
      ],
      "text/plain": [
       "⎡               ∂                                           ∂                 \n",
       "⎢              -──(f(x, y))                                -──(f(x, y))       \n",
       "⎢               ∂x                                          ∂y                \n",
       "⎢──────────────────────────────────────────  ─────────────────────────────────\n",
       "⎢     _____________________________________       ____________________________\n",
       "⎢    ╱              2                2           ╱              2             \n",
       "⎢   ╱  ⎛∂          ⎞    ⎛∂          ⎞           ╱  ⎛∂          ⎞    ⎛∂        \n",
       "⎢  ╱   ⎜──(f(x, y))⎟  + ⎜──(f(x, y))⎟  + 1     ╱   ⎜──(f(x, y))⎟  + ⎜──(f(x, y\n",
       "⎣╲╱    ⎝∂x         ⎠    ⎝∂y         ⎠        ╲╱    ⎝∂x         ⎠    ⎝∂y       \n",
       "\n",
       "                                                     ⎤\n",
       "                                                     ⎥\n",
       "                               1                     ⎥\n",
       "─────────  ──────────────────────────────────────────⎥\n",
       "_________       _____________________________________⎥\n",
       "   2           ╱              2                2     ⎥\n",
       "  ⎞           ╱  ⎛∂          ⎞    ⎛∂          ⎞      ⎥\n",
       "))⎟  + 1     ╱   ⎜──(f(x, y))⎟  + ⎜──(f(x, y))⎟  + 1 ⎥\n",
       "  ⎠        ╲╱    ⎝∂x         ⎠    ⎝∂y         ⎠      ⎦"
      ]
     },
     "execution_count": 35,
     "metadata": {},
     "output_type": "execute_result"
    }
   ],
   "source": [
    "derive_normal_vector_formula(f)"
   ]
  },
  {
   "cell_type": "markdown",
   "metadata": {},
   "source": [
    "This matches what was derived in the text. What about the others?"
   ]
  },
  {
   "cell_type": "code",
   "execution_count": 36,
   "metadata": {},
   "outputs": [
    {
     "data": {
      "image/png": "[encoded data removed]",
      "text/latex": [
       "$$\\left[\\begin{matrix}\\frac{\\frac{\\partial}{\\partial x} g{\\left (x,z \\right )}}{\\sqrt{\\frac{\\partial}{\\partial x} g{\\left (x,z \\right )}^{2} + \\frac{\\partial}{\\partial z} g{\\left (x,z \\right )}^{2} + 1}} & - \\frac{1}{\\sqrt{\\frac{\\partial}{\\partial x} g{\\left (x,z \\right )}^{2} + \\frac{\\partial}{\\partial z} g{\\left (x,z \\right )}^{2} + 1}} & \\frac{\\frac{\\partial}{\\partial z} g{\\left (x,z \\right )}}{\\sqrt{\\frac{\\partial}{\\partial x} g{\\left (x,z \\right )}^{2} + \\frac{\\partial}{\\partial z} g{\\left (x,z \\right )}^{2} + 1}}\\end{matrix}\\right]$$"
      ],
      "text/plain": [
       "⎡               ∂                                                             \n",
       "⎢               ──(g(x, z))                                                   \n",
       "⎢               ∂x                                              -1            \n",
       "⎢──────────────────────────────────────────  ─────────────────────────────────\n",
       "⎢     _____________________________________       ____________________________\n",
       "⎢    ╱              2                2           ╱              2             \n",
       "⎢   ╱  ⎛∂          ⎞    ⎛∂          ⎞           ╱  ⎛∂          ⎞    ⎛∂        \n",
       "⎢  ╱   ⎜──(g(x, z))⎟  + ⎜──(g(x, z))⎟  + 1     ╱   ⎜──(g(x, z))⎟  + ⎜──(g(x, z\n",
       "⎣╲╱    ⎝∂x         ⎠    ⎝∂z         ⎠        ╲╱    ⎝∂x         ⎠    ⎝∂z       \n",
       "\n",
       "                          ∂                          ⎤\n",
       "                          ──(g(x, z))                ⎥\n",
       "                          ∂z                         ⎥\n",
       "─────────  ──────────────────────────────────────────⎥\n",
       "_________       _____________________________________⎥\n",
       "   2           ╱              2                2     ⎥\n",
       "  ⎞           ╱  ⎛∂          ⎞    ⎛∂          ⎞      ⎥\n",
       "))⎟  + 1     ╱   ⎜──(g(x, z))⎟  + ⎜──(g(x, z))⎟  + 1 ⎥\n",
       "  ⎠        ╲╱    ⎝∂x         ⎠    ⎝∂z         ⎠      ⎦"
      ]
     },
     "execution_count": 36,
     "metadata": {},
     "output_type": "execute_result"
    }
   ],
   "source": [
    "derive_normal_vector_formula(g)"
   ]
  },
  {
   "cell_type": "code",
   "execution_count": 37,
   "metadata": {},
   "outputs": [
    {
     "data": {
      "image/png": "[encoded data removed]",
      "text/latex": [
       "$$\\left[\\begin{matrix}\\frac{1}{\\sqrt{\\frac{\\partial}{\\partial y} h{\\left (y,z \\right )}^{2} + \\frac{\\partial}{\\partial z} h{\\left (y,z \\right )}^{2} + 1}} & - \\frac{\\frac{\\partial}{\\partial y} h{\\left (y,z \\right )}}{\\sqrt{\\frac{\\partial}{\\partial y} h{\\left (y,z \\right )}^{2} + \\frac{\\partial}{\\partial z} h{\\left (y,z \\right )}^{2} + 1}} & - \\frac{\\frac{\\partial}{\\partial z} h{\\left (y,z \\right )}}{\\sqrt{\\frac{\\partial}{\\partial y} h{\\left (y,z \\right )}^{2} + \\frac{\\partial}{\\partial z} h{\\left (y,z \\right )}^{2} + 1}}\\end{matrix}\\right]$$"
      ],
      "text/plain": [
       "⎡                                                           ∂                 \n",
       "⎢                                                          -──(h(y, z))       \n",
       "⎢                    1                                      ∂y                \n",
       "⎢──────────────────────────────────────────  ─────────────────────────────────\n",
       "⎢     _____________________________________       ____________________________\n",
       "⎢    ╱              2                2           ╱              2             \n",
       "⎢   ╱  ⎛∂          ⎞    ⎛∂          ⎞           ╱  ⎛∂          ⎞    ⎛∂        \n",
       "⎢  ╱   ⎜──(h(y, z))⎟  + ⎜──(h(y, z))⎟  + 1     ╱   ⎜──(h(y, z))⎟  + ⎜──(h(y, z\n",
       "⎣╲╱    ⎝∂y         ⎠    ⎝∂z         ⎠        ╲╱    ⎝∂y         ⎠    ⎝∂z       \n",
       "\n",
       "                          ∂                          ⎤\n",
       "                         -──(h(y, z))                ⎥\n",
       "                          ∂z                         ⎥\n",
       "─────────  ──────────────────────────────────────────⎥\n",
       "_________       _____________________________________⎥\n",
       "   2           ╱              2                2     ⎥\n",
       "  ⎞           ╱  ⎛∂          ⎞    ⎛∂          ⎞      ⎥\n",
       "))⎟  + 1     ╱   ⎜──(h(y, z))⎟  + ⎜──(h(y, z))⎟  + 1 ⎥\n",
       "  ⎠        ╲╱    ⎝∂y         ⎠    ⎝∂z         ⎠      ⎦"
      ]
     },
     "execution_count": 37,
     "metadata": {},
     "output_type": "execute_result"
    }
   ],
   "source": [
    "derive_normal_vector_formula(h)"
   ]
  },
  {
   "cell_type": "code",
   "execution_count": 38,
   "metadata": {
    "collapsed": true
   },
   "outputs": [],
   "source": [
    "n_from_h = derive_normal_vector_formula(h)"
   ]
  },
  {
   "cell_type": "code",
   "execution_count": 39,
   "metadata": {},
   "outputs": [
    {
     "data": {
      "image/png": "[encoded data removed]",
      "text/latex": [
       "$$\\frac{1}{a} \\left(- b y - c z + d\\right)$$"
      ],
      "text/plain": [
       "-b⋅y - c⋅z + d\n",
       "──────────────\n",
       "      a       "
      ]
     },
     "execution_count": 39,
     "metadata": {},
     "output_type": "execute_result"
    }
   ],
   "source": [
    "a,b,c,d = sp.symbols('a b c d', real=True, positive=True)\n",
    "\n",
    "plane = sp.Eq(a*x + b*y + c*z, d)\n",
    "\n",
    "my_h = sp.solve(plane, x)[0]\n",
    "my_h"
   ]
  },
  {
   "cell_type": "code",
   "execution_count": 40,
   "metadata": {},
   "outputs": [
    {
     "data": {
      "image/png": "[encoded data removed]",
      "text/latex": [
       "$$\\left[\\begin{matrix}\\frac{1}{\\sqrt{\\frac{\\partial}{\\partial y}\\left(\\frac{1}{a} \\left(- b y - c z + d\\right)\\right)^{2} + \\frac{\\partial}{\\partial z}\\left(\\frac{1}{a} \\left(- b y - c z + d\\right)\\right)^{2} + 1}} & - \\frac{\\frac{\\partial}{\\partial y}\\left(\\frac{1}{a} \\left(- b y - c z + d\\right)\\right)}{\\sqrt{\\frac{\\partial}{\\partial y}\\left(\\frac{1}{a} \\left(- b y - c z + d\\right)\\right)^{2} + \\frac{\\partial}{\\partial z}\\left(\\frac{1}{a} \\left(- b y - c z + d\\right)\\right)^{2} + 1}} & - \\frac{\\frac{\\partial}{\\partial z}\\left(\\frac{1}{a} \\left(- b y - c z + d\\right)\\right)}{\\sqrt{\\frac{\\partial}{\\partial y}\\left(\\frac{1}{a} \\left(- b y - c z + d\\right)\\right)^{2} + \\frac{\\partial}{\\partial z}\\left(\\frac{1}{a} \\left(- b y - c z + d\\right)\\right)^{2} + 1}}\\end{matrix}\\right]$$"
      ],
      "text/plain": [
       "⎡                                                                             \n",
       "⎢                                                                            -\n",
       "⎢                           1                                                 \n",
       "⎢────────────────────────────────────────────────────────  ───────────────────\n",
       "⎢     ___________________________________________________       ______________\n",
       "⎢    ╱                     2                       2           ╱              \n",
       "⎢   ╱  ⎛∂ ⎛-b⋅y - c⋅z + d⎞⎞    ⎛∂ ⎛-b⋅y - c⋅z + d⎞⎞           ╱  ⎛∂ ⎛-b⋅y - c⋅\n",
       "⎢  ╱   ⎜──⎜──────────────⎟⎟  + ⎜──⎜──────────────⎟⎟  + 1     ╱   ⎜──⎜─────────\n",
       "⎣╲╱    ⎝∂y⎝      a       ⎠⎠    ⎝∂z⎝      a       ⎠⎠        ╲╱    ⎝∂y⎝      a  \n",
       "\n",
       "∂ ⎛-b⋅y - c⋅z + d⎞                                        ∂ ⎛-b⋅y - c⋅z + d⎞  \n",
       "──⎜──────────────⎟                                       -──⎜──────────────⎟  \n",
       "∂y⎝      a       ⎠                                        ∂z⎝      a       ⎠  \n",
       "─────────────────────────────────────  ───────────────────────────────────────\n",
       "_____________________________________       __________________________________\n",
       "       2                       2           ╱                     2            \n",
       "z + d⎞⎞    ⎛∂ ⎛-b⋅y - c⋅z + d⎞⎞           ╱  ⎛∂ ⎛-b⋅y - c⋅z + d⎞⎞    ⎛∂ ⎛-b⋅y \n",
       "─────⎟⎟  + ⎜──⎜──────────────⎟⎟  + 1     ╱   ⎜──⎜──────────────⎟⎟  + ⎜──⎜─────\n",
       "     ⎠⎠    ⎝∂z⎝      a       ⎠⎠        ╲╱    ⎝∂y⎝      a       ⎠⎠    ⎝∂z⎝     \n",
       "\n",
       "                 ⎤\n",
       "                 ⎥\n",
       "                 ⎥\n",
       "─────────────────⎥\n",
       "_________________⎥\n",
       "           2     ⎥\n",
       "- c⋅z + d⎞⎞      ⎥\n",
       "─────────⎟⎟  + 1 ⎥\n",
       " a       ⎠⎠      ⎦"
      ]
     },
     "execution_count": 40,
     "metadata": {},
     "output_type": "execute_result"
    }
   ],
   "source": [
    "n_from_h.subs(h, my_h)"
   ]
  },
  {
   "cell_type": "code",
   "execution_count": 41,
   "metadata": {},
   "outputs": [
    {
     "data": {
      "image/png": "[encoded data removed]",
      "text/latex": [
       "$$\\left[\\begin{matrix}\\frac{1}{\\sqrt{1 + \\frac{b^{2}}{a^{2}} + \\frac{c^{2}}{a^{2}}}} & \\frac{b}{a \\sqrt{1 + \\frac{b^{2}}{a^{2}} + \\frac{c^{2}}{a^{2}}}} & \\frac{c}{a \\sqrt{1 + \\frac{b^{2}}{a^{2}} + \\frac{c^{2}}{a^{2}}}}\\end{matrix}\\right]$$"
      ],
      "text/plain": [
       "⎡         1                     b                      c          ⎤\n",
       "⎢───────────────────  ─────────────────────  ─────────────────────⎥\n",
       "⎢      _____________          _____________          _____________⎥\n",
       "⎢     ╱      2    2          ╱      2    2          ╱      2    2 ⎥\n",
       "⎢    ╱      b    c          ╱      b    c          ╱      b    c  ⎥\n",
       "⎢   ╱   1 + ── + ──   a⋅   ╱   1 + ── + ──   a⋅   ╱   1 + ── + ── ⎥\n",
       "⎢  ╱         2    2       ╱         2    2       ╱         2    2 ⎥\n",
       "⎣╲╱         a    a      ╲╱         a    a      ╲╱         a    a  ⎦"
      ]
     },
     "execution_count": 41,
     "metadata": {},
     "output_type": "execute_result"
    }
   ],
   "source": [
    "n_from_h.subs(h, my_h).doit()"
   ]
  },
  {
   "cell_type": "code",
   "execution_count": 42,
   "metadata": {},
   "outputs": [
    {
     "data": {
      "image/png": "[encoded data removed]",
      "text/latex": [
       "$$\\left[\\begin{matrix}0 & 0 & 0\\end{matrix}\\right]$$"
      ],
      "text/plain": [
       "[0  0  0]"
      ]
     },
     "execution_count": 42,
     "metadata": {},
     "output_type": "execute_result"
    }
   ],
   "source": [
    "sp.simplify(n_from_h.subs(h, my_h).doit()-desired_result)"
   ]
  },
  {
   "cell_type": "markdown",
   "metadata": {
    "collapsed": true
   },
   "source": [
    "So, it works.  \n",
    "\n",
    "\n",
    "##### Summary: \n",
    "\n",
    "This is the most challenging of the three types of homework problems. Since I had to derive multiple expressions (one for $g(x,z)$ and one for $h(y,z)$), I decided to write a python function, but I could also have just gone through the steps by hand. Generally speaking, if I'm going to do something more than once, writing a function isn't a bad idea, but it's worth noting that a significant fraction of the work (the introspection and list comprehension pieces, in particular) were a direct result of my wanting to use a generalizable function, rather than just wading in and doing the operations by hand.\n",
    "\n",
    "Looking at --- or better still, testing --- intermediate and/or known results is an important part of the process here to make sure you haven't made a mistake. \n",
    "\n",
    "----\n",
    "\n"
   ]
  },
  {
   "cell_type": "code",
   "execution_count": null,
   "metadata": {
    "collapsed": true
   },
   "outputs": [],
   "source": []
  }
 ],
 "metadata": {
  "kernelspec": {
   "display_name": "Python 3",
   "language": "python",
   "name": "python3"
  },
  "language_info": {
   "codemirror_mode": {
    "name": "ipython",
    "version": 3
   },
   "file_extension": ".py",
   "mimetype": "text/x-python",
   "name": "python",
   "nbconvert_exporter": "python",
   "pygments_lexer": "ipython3",
   "version": "3.5.3"
  }
 },
 "nbformat": 4,
 "nbformat_minor": 2
}
